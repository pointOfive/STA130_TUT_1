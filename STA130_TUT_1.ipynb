{
 "cells": [
  {
   "cell_type": "markdown",
   "id": "87918176",
   "metadata": {
    "slideshow": {
     "slide_type": "slide"
    }
   },
   "source": [
    "# STA130 Tutorial (with \\<Your Favorite TA\\>): <br>Introduction to Statistical Reasoning and Data Science\n",
    "\n",
    "![](https://media.gettyimages.com/id/517357578/photo/1912-original-caption-reads-this-terrible-scene-painted-by-german-artist-willy-stoewer-depicts.jpg?s=612x612&w=gi&k=20&c=WK6J0tZQhdgYjdkGa-WpdcAdwrMqzRfvHV8b8WVCbWc=)\n",
    "\n",
    "## Let's start with a good old-fashioned icebreaker"
   ]
  },
  {
   "cell_type": "markdown",
   "id": "12b3fbbe",
   "metadata": {
    "slideshow": {
     "slide_type": "slide"
    }
   },
   "source": [
    "# Icebreaker (30 min)\n",
    "\n",
    "- What's your name?\n",
    "\n",
    "And answer one or two of the following?\n",
    "\n",
    "- Share a boring fact about yourself \n",
    "\n",
    "- Something you're grateful for -- nothing is too big or too small\n",
    "\n",
    "- Something you really like OR really dislike.\n",
    "\n",
    "- Something you did in the summer\n",
    "\n",
    "- Something interesting about where you're from (at any geographic scale)\n",
    "\n",
    "- 2 truths and 1 lie."
   ]
  },
  {
   "cell_type": "markdown",
   "id": "7c043b56",
   "metadata": {
    "slideshow": {
     "slide_type": "slide"
    }
   },
   "source": [
    "# Open Notes Syllabus Quiz (10 minutes)\n",
    "\n",
    "You may refer to the course slides and syllabus.  \n",
    "Write and submit answers to the following questions.\n",
    "\n",
    "0. What is your name?\n",
    "1. Where are all the answers to these questions? <!-- The syllabus and course slides -->\n",
    "2. When is `Coding Homework` due? <!-- Thursdays, 5pm -->\n",
    "3. When are ***Tutorial Assignments*** due? <!-- Monday, 9am -->\n",
    "4. Who are project team groupings submitted to? <!-- Your TA -->\n",
    "5. How many students are on a project team? <!-- 4... maybe 3 in some circumstances -->\n",
    "6. When are project team groupings due? <!-- Oct 27 (the week before the midterm) -->\n",
    "7. What happens if I don't submit a  project team grouping in time? <!-- I am randomly assigned a project team -->\n",
    "8. What happens if I miss the midterm? <!-- The weight is added to the final -->\n",
    "9. Can I miss the final? <!-- Perhaps, if FAS approves your exam deferral petition -->\n",
    "10. When are office hours? <!-- Tue & Wed 9-11AM & 1-3PM -->\n",
    "11. Where are office hours? <!-- Sidney Smith 621/621A and online -->\n",
    "12. Are there office hours specifically about learning to code? <!-- Yes -->\n",
    "13. When are piazza questions reviewed and answered? <!-- Mon-Thur 4-5PM -->\n",
    "14. How many assignments can be missed without penalty? <!-- Two in each category: coding, tutorial activity, and tutorial exercise -->"
   ]
  },
  {
   "cell_type": "markdown",
   "id": "be20456d",
   "metadata": {
    "slideshow": {
     "slide_type": "slide"
    }
   },
   "source": [
    "# Discussion (25 min) \n",
    "\n",
    "- *Break into groups of 4*\n",
    "\n",
    "Your team, along with famous statistician Abraham Wald, work for the US Statistical Research Group (SRG) which has assembled the best American statisticians to support the World War II war effort. You're currently working on a problem about how to best armour planes. \n",
    "\n",
    "- Too little armour: planes easily shot down \n",
    "- Too much armour: heavier less maneuverable planes use more fuel"
   ]
  },
  {
   "cell_type": "markdown",
   "id": "7b943f5c",
   "metadata": {
    "slideshow": {
     "slide_type": "subslide"
    }
   },
   "source": [
    "You observed that the planes returning from combat were covered in bullet holes, \n",
    "but the holes weren't uniformly distributed across the aircraft.\n",
    "\n",
    "![](https://upload.wikimedia.org/wikipedia/commons/thumb/b/b2/Survivorship-bias.svg/640px-Survivorship-bias.svg.png)"
   ]
  },
  {
   "cell_type": "markdown",
   "id": "377cb34b",
   "metadata": {
    "slideshow": {
     "slide_type": "subslide"
    }
   },
   "source": [
    "- Based on this observation, you put together a table to summarize the distribution of bullet holes across plane sections:\n",
    "\n",
    "| Section of plane                        | Bullet holes per square foot |\n",
    "|:----------------------------------------|:-----------------------------|\n",
    "| A. Engine                               | 1.11                         |\n",
    "| B. Fuselage (main body of the aircraft) | 1.73                         |\n",
    "| C. Fuel system                          | 1.55                         |\n",
    "| D. Rest of plane (e.g. wings and tail)  | 1.80                         |\n",
    "\n",
    "1. **Which part of the plane has the greatest need for armour?**  \n",
    "2. **Did you all agree?**  \n",
    "3. **Can you change your classmates’ minds to agree with you? Or can they argue persuasively so you agree with them?**"
   ]
  },
  {
   "cell_type": "markdown",
   "id": "fb86fdb1",
   "metadata": {
    "slideshow": {
     "slide_type": "slide"
    }
   },
   "source": [
    "# Writing Activity Primer (15 min)\n",
    "\n",
    "- *Break into new groups of 5*\n",
    "\n",
    "Exchange answers and discuss the following questions:\n",
    "\n",
    "1. How is it that you have come to take STA130?\n",
    "\n",
    "2. Do you currently have a sense of the kind of career (e.g., industry, company, type of work) you think you might want to pursue?  Please describe your current thinking on this aspect of your university experience."
   ]
  },
  {
   "cell_type": "markdown",
   "id": "dd2860c1",
   "metadata": {
    "slideshow": {
     "slide_type": "slide"
    }
   },
   "source": [
    "# Tutorial Exercise (30 min)\n",
    "\n",
    "Identify ONE of the course learning objectives that you're most excited about and describe why you chose this objective as the most interesting. Elaborate based on your programs and subjects of interest and future career goals.\n",
    "\n",
    "  1. Wrangling data using `python` and `pandas`\n",
    "\n",
    "  2. Doing analyses with `python`, `statsmodels`, and `scikit-learn`\n",
    "\n",
    "  3. Identifying the strengths and weaknesses of relevant statistical methods \n",
    "\n",
    "  4. Interpreting and communicating results (non-)technical audiences\n",
    "\n",
    "  5. Describing how statistical methods can be used to learn from data, including methods for description, explanation, and prediction\n",
    "\n",
    " "
   ]
  },
  {
   "cell_type": "markdown",
   "id": "a3d8c362",
   "metadata": {
    "slideshow": {
     "slide_type": "subslide"
    }
   },
   "source": [
    "## Notes on approaching the writing prompt\n",
    "\n",
    "- Hand in the assignment on Quercus\n",
    "- Use full sentences\n",
    "- Grammar is *not* the main focus of the assessment, but it is important that you communicate in a clear and professional manner (without slang or emojis) \n",
    "- Assume your audience is not aware of the subject matter, so be specific and communicate what the objective is paraphrasing it in your own words, as opposed to copying the learning objectivein quotation marks.  \n",
    "- Aim for 200 - 500 words\n",
    "- Do not spend more than 30 minutes on the prompt"
   ]
  },
  {
   "cell_type": "markdown",
   "id": "b85727c7",
   "metadata": {
    "slideshow": {
     "slide_type": "slide"
    }
   },
   "source": [
    "# Tutorial Assignment\n",
    "\n",
    "Suppose you ask your friends to name 10 songs produced prior to Dec 31, 1999 and 10 songs produced after Jan 1, 2000. Then, suppose you check the song statistics on Spotify. Answer the following four questions.\n",
    "\n",
    "1. Are the 10 songs produced prior to Dec 31, 1999 that your friend selected fairly representative of all songs produced prior to Dec 31, 1999?\n",
    "\n",
    "2. If the total number of times the older songs have been listened to is greater than the newer songs, would this confirm that music from earlier periods is better than music now?\n",
    "\n",
    "<!-- *Not necessarily: older songs have had more time to gain larger listen counts!* -->\n",
    "\n",
    "3. If the average number of times (per user and per year) the older songs have been listened to is greater than the newer songs, would this confirm that music from earlier periods is better than music now?\n",
    "\n",
    "<!-- *Not necessarily: perhaps the only older songs your friend remembers are really popular and have stood the test of time; whereas, perhaps the newer songs they've mentioned are just hot right now as the flavor of the week, but won't end up standing the test of the time like the older songs they remember.* -->\n",
    "\n",
    "4. Could there be a systematic reason that the 10 songs produced prior to Dec 31, 1999 that your friend selected might be expected to have a higher number of listens?\n",
    "\n",
    "<!-- *Following up on the rationale from the previous answer, it's most likely that the older songs that your friend remembers have been significantly filtered down to just those that are pretty universally \"like\"; but, this is less likely to be the case for their current musical tastes.  So the songs that are selected are indeed likely to be selected in systematically different ways.* -->"
   ]
  }
 ],
 "metadata": {
  "celltoolbar": "Slideshow",
  "kernelspec": {
   "display_name": "Python 3 (ipykernel)",
   "language": "python",
   "name": "python3"
  },
  "language_info": {
   "codemirror_mode": {
    "name": "ipython",
    "version": 3
   },
   "file_extension": ".py",
   "mimetype": "text/x-python",
   "name": "python",
   "nbconvert_exporter": "python",
   "pygments_lexer": "ipython3",
   "version": "3.10.8"
  }
 },
 "nbformat": 4,
 "nbformat_minor": 5
}
